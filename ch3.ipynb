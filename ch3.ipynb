{
 "cells": [
  {
   "cell_type": "markdown",
   "id": "f9f0e912-d104-4532-9375-9857838c0595",
   "metadata": {},
   "source": [
    "#### 텐서 기본 \n",
    "생성 및 읽어오기"
   ]
  },
  {
   "cell_type": "code",
   "execution_count": 1,
   "id": "75770104-6e8c-46a3-ad64-796d7f02ae7a",
   "metadata": {},
   "outputs": [
    {
     "data": {
      "text/plain": [
       "(1.0, 2.0, 3.0, [1.0, 2.0, 3.0])"
      ]
     },
     "execution_count": 1,
     "metadata": {},
     "output_type": "execute_result"
    }
   ],
   "source": [
    "a = [1.0, 2.0, 3.0]\n",
    "\n",
    "a[0], a[1], a[2], a"
   ]
  },
  {
   "cell_type": "code",
   "execution_count": 5,
   "id": "bef80364-4783-4103-aae8-a040d35ed713",
   "metadata": {},
   "outputs": [
    {
     "data": {
      "text/plain": [
       "tensor([1., 1., 1.])"
      ]
     },
     "execution_count": 5,
     "metadata": {},
     "output_type": "execute_result"
    }
   ],
   "source": [
    "import torch\n",
    "\n",
    "a = torch.ones(3) # 크기가 3인 1차원 텐서, 값은 모두 1\n",
    "a"
   ]
  },
  {
   "cell_type": "code",
   "execution_count": 13,
   "id": "5f4babe7-38f0-43c9-9f1b-50ed79b5e77e",
   "metadata": {},
   "outputs": [
    {
     "data": {
      "text/plain": [
       "(tensor(1.), tensor(1.), tensor(1.))"
      ]
     },
     "execution_count": 13,
     "metadata": {},
     "output_type": "execute_result"
    }
   ],
   "source": [
    "a[0], a[1], a[2]"
   ]
  },
  {
   "cell_type": "code",
   "execution_count": 15,
   "id": "409d960c-833b-4b9a-9bf7-b0f2529d1a06",
   "metadata": {},
   "outputs": [
    {
     "data": {
      "text/plain": [
       "tensor([1., 1., 3.])"
      ]
     },
     "execution_count": 15,
     "metadata": {},
     "output_type": "execute_result"
    }
   ],
   "source": [
    "a[2]=3\n",
    "a"
   ]
  },
  {
   "cell_type": "code",
   "execution_count": 17,
   "id": "376c97b6-729f-44b4-bf62-8a340921afd7",
   "metadata": {},
   "outputs": [
    {
     "data": {
      "text/plain": [
       "tensor([3., 2., 0., 2., 1., 4.])"
      ]
     },
     "execution_count": 17,
     "metadata": {},
     "output_type": "execute_result"
    }
   ],
   "source": [
    "points = torch.zeros(6)\n",
    "\n",
    "points[0] = 3\n",
    "points[1] = 2\n",
    "points[2] = 0.0\n",
    "points[3] = 2.0\n",
    "points[4] = 1\n",
    "points[5] = 4.0\n",
    "\n",
    "points"
   ]
  },
  {
   "cell_type": "code",
   "execution_count": 23,
   "id": "89edf226-c02c-427d-99f9-9578428d0980",
   "metadata": {},
   "outputs": [
    {
     "data": {
      "text/plain": [
       "(0.0, 2.0)"
      ]
     },
     "execution_count": 23,
     "metadata": {},
     "output_type": "execute_result"
    }
   ],
   "source": [
    "float(points[2]), float(points[3])"
   ]
  },
  {
   "cell_type": "code",
   "execution_count": 25,
   "id": "422a5ce4-80c7-431b-b86f-3cc85031281d",
   "metadata": {},
   "outputs": [
    {
     "data": {
      "text/plain": [
       "tensor([[1., 2.],\n",
       "        [3., 4.],\n",
       "        [5., 6.]])"
      ]
     },
     "execution_count": 25,
     "metadata": {},
     "output_type": "execute_result"
    }
   ],
   "source": [
    "mylist = [[1.0, 2.0], [3.0, 4.0], [5.0, 6.0]]\n",
    "\n",
    "points = torch.tensor(mylist)\n",
    "points"
   ]
  },
  {
   "cell_type": "code",
   "execution_count": 27,
   "id": "104564b7-75c2-4a99-a766-2c8f44f4e21e",
   "metadata": {},
   "outputs": [
    {
     "data": {
      "text/plain": [
       "torch.Size([3, 2])"
      ]
     },
     "execution_count": 27,
     "metadata": {},
     "output_type": "execute_result"
    }
   ],
   "source": [
    "points.shape"
   ]
  },
  {
   "cell_type": "code",
   "execution_count": 31,
   "id": "e9a0bba9-9777-4eef-ab48-36b0215fc530",
   "metadata": {},
   "outputs": [
    {
     "data": {
      "text/plain": [
       "tensor([1., 2.])"
      ]
     },
     "execution_count": 31,
     "metadata": {},
     "output_type": "execute_result"
    }
   ],
   "source": [
    "points[0]"
   ]
  },
  {
   "cell_type": "code",
   "execution_count": 54,
   "id": "aa32d560-185e-4309-8dea-d9e81b19bb47",
   "metadata": {},
   "outputs": [
    {
     "data": {
      "text/plain": [
       "tensor(3.)"
      ]
     },
     "execution_count": 54,
     "metadata": {},
     "output_type": "execute_result"
    }
   ],
   "source": [
    "points[1,0]"
   ]
  },
  {
   "cell_type": "markdown",
   "id": "11965312-d667-4650-adac-09db264cb8c2",
   "metadata": {},
   "source": [
    "#### 인덱싱"
   ]
  },
  {
   "cell_type": "code",
   "execution_count": 40,
   "id": "bf9167d4-e598-418c-a530-01b7adb6247a",
   "metadata": {},
   "outputs": [
    {
     "data": {
      "text/plain": [
       "tensor([[1., 2.],\n",
       "        [3., 4.],\n",
       "        [5., 6.]])"
      ]
     },
     "execution_count": 40,
     "metadata": {},
     "output_type": "execute_result"
    }
   ],
   "source": [
    "points[:]"
   ]
  },
  {
   "cell_type": "code",
   "execution_count": 42,
   "id": "34338de8-9064-421d-9b7a-5d89a81ca8b5",
   "metadata": {},
   "outputs": [
    {
     "data": {
      "text/plain": [
       "tensor([[3., 4.],\n",
       "        [5., 6.]])"
      ]
     },
     "execution_count": 42,
     "metadata": {},
     "output_type": "execute_result"
    }
   ],
   "source": [
    "points[1:]"
   ]
  },
  {
   "cell_type": "code",
   "execution_count": 48,
   "id": "8d98e1b8-8b6d-4ff7-a918-cfccc61e8186",
   "metadata": {},
   "outputs": [
    {
     "data": {
      "text/plain": [
       "tensor([[1.],\n",
       "        [3.],\n",
       "        [5.]])"
      ]
     },
     "execution_count": 48,
     "metadata": {},
     "output_type": "execute_result"
    }
   ],
   "source": [
    "points[:, :1]"
   ]
  },
  {
   "cell_type": "code",
   "execution_count": 50,
   "id": "2add4da6-f0a5-4ec5-9079-7089a9e9bd6c",
   "metadata": {},
   "outputs": [
    {
     "data": {
      "text/plain": [
       "tensor([1., 3., 5.])"
      ]
     },
     "execution_count": 50,
     "metadata": {},
     "output_type": "execute_result"
    }
   ],
   "source": [
    "points[:, 0]"
   ]
  },
  {
   "cell_type": "code",
   "execution_count": 52,
   "id": "76c92ea7-a073-4436-b432-652ecf885c64",
   "metadata": {},
   "outputs": [
    {
     "data": {
      "text/plain": [
       "tensor([[[1., 2.],\n",
       "         [3., 4.],\n",
       "         [5., 6.]]])"
      ]
     },
     "execution_count": 52,
     "metadata": {},
     "output_type": "execute_result"
    }
   ],
   "source": [
    "points[None] # unsqueeze와 동일하다고 함"
   ]
  },
  {
   "cell_type": "code",
   "execution_count": 56,
   "id": "2501f5e3-f83e-4b90-9c38-6b842a39c9bc",
   "metadata": {},
   "outputs": [
    {
     "data": {
      "text/plain": [
       "tensor([[1., 2.],\n",
       "        [3., 4.]])"
      ]
     },
     "execution_count": 56,
     "metadata": {},
     "output_type": "execute_result"
    }
   ],
   "source": [
    "points[:-1, :]"
   ]
  },
  {
   "cell_type": "markdown",
   "id": "d6385436-6cf5-45e1-899c-3817565bc4b2",
   "metadata": {},
   "source": [
    "#### 텐서 이름 지정"
   ]
  },
  {
   "cell_type": "code",
   "execution_count": 64,
   "id": "5246249e-6062-483b-a905-47c7a5739449",
   "metadata": {},
   "outputs": [
    {
     "data": {
      "text/plain": [
       "('batch', 'channel', 'height')"
      ]
     },
     "execution_count": 64,
     "metadata": {},
     "output_type": "execute_result"
    }
   ],
   "source": [
    "# 생성할 때 이름 지정\n",
    "mytensor = torch.tensor([[[1, 2], [3, 4]], [[5, 6], [7, 8]]], names=('batch', 'channel', 'height'))\n",
    "mytensor.names"
   ]
  },
  {
   "cell_type": "code",
   "execution_count": 68,
   "id": "7dd92e92-8578-4986-89b1-b7f837f5234e",
   "metadata": {},
   "outputs": [
    {
     "data": {
      "text/plain": [
       "('batch', 'channel', 'height')"
      ]
     },
     "execution_count": 68,
     "metadata": {},
     "output_type": "execute_result"
    }
   ],
   "source": [
    "# 이미 생성된 텐서에 이름 지정\n",
    "mytensor2 = torch.tensor([[[1, 2], [3, 4]], [[5, 6], [7, 8]]])\n",
    "mytensor2 = mytensor2.refine_names('batch', 'channel', 'height')\n",
    "mytensor2.names"
   ]
  },
  {
   "cell_type": "code",
   "execution_count": 72,
   "id": "40503fbd-1235-4ec3-9d16-2065d2c796cb",
   "metadata": {},
   "outputs": [
    {
     "data": {
      "text/plain": [
       "tensor([[[2, 3],\n",
       "         [4, 5]],\n",
       "\n",
       "        [[6, 7],\n",
       "         [8, 9]]], names=('batch', 'channel', 'height'))"
      ]
     },
     "execution_count": 72,
     "metadata": {},
     "output_type": "execute_result"
    }
   ],
   "source": [
    "tensor1 = torch.tensor([[[1, 2], [3, 4]], [[5, 6], [7, 8]]], names=('batch', 'channel', 'height'))\n",
    "tensor2 = torch.tensor([[[1, 1], [1, 1]], [[1, 1], [1, 1]]], names=('batch', 'channel', 'height'))\n",
    "\n",
    "result = tensor1 + tensor2\n",
    "result"
   ]
  },
  {
   "cell_type": "code",
   "execution_count": 82,
   "id": "75cd112d-4045-43a9-886e-a3219f45b08a",
   "metadata": {},
   "outputs": [
    {
     "data": {
      "text/plain": [
       "(None, None, None)"
      ]
     },
     "execution_count": 82,
     "metadata": {},
     "output_type": "execute_result"
    }
   ],
   "source": [
    "tensor1 = tensor1.rename(None)\n",
    "tensor1.names"
   ]
  },
  {
   "cell_type": "code",
   "execution_count": 84,
   "id": "99335bd9-81bb-4df5-9131-39a4932fc1ee",
   "metadata": {},
   "outputs": [
    {
     "data": {
      "text/plain": [
       "('dim0', 'dim1', 'dim2')"
      ]
     },
     "execution_count": 84,
     "metadata": {},
     "output_type": "execute_result"
    }
   ],
   "source": [
    "tensor2 = tensor2.rename(batch=\"dim0\", channel=\"dim1\", height=\"dim2\")\n",
    "tensor2.names"
   ]
  },
  {
   "cell_type": "markdown",
   "id": "f397bf52-f2ee-4e13-82bd-07502b5e5319",
   "metadata": {},
   "source": [
    "#### 브로드캐스팅\n",
    "\n",
    "1. 각 tensor는 적어도 하나의 차원을 가진다.\n",
    "2. 브로드캐스팅을 위해 차원을 비교할 때는 맨 뒤(가장 오른쪽)의 차원부터 시작한다. \n",
    "3. 각 차원의 크기는 세 가지 조건 중 하나를 만족해야한다.\n",
    "\t- 두 텐서의 해당 차원의 크기가 같다.\n",
    "\t- 해당 차원의 크기 중 하나가 1이여야 한다.\n",
    "    - 비교 중인 차원 중 하나가 존재하지 않아야한다. 부족한 차원은 크기가 1로 간주해서 확장한다. "
   ]
  },
  {
   "cell_type": "code",
   "execution_count": 105,
   "id": "19e3eb8a-b92d-4ed2-87b5-4388983389b5",
   "metadata": {},
   "outputs": [
    {
     "data": {
      "text/plain": [
       "tensor([[ 8, 10, 12],\n",
       "        [14, 16, 18]])"
      ]
     },
     "execution_count": 105,
     "metadata": {},
     "output_type": "execute_result"
    }
   ],
   "source": [
    "# a 브로드캐스팅 일어나지 않음 바로 연산 가능\n",
    "A = torch.tensor([[1, 2, 3], [4, 5, 6]])  \n",
    "B = torch.tensor([[7, 8, 9], [10, 11, 12]])  \n",
    "C = A + B\n",
    "C"
   ]
  },
  {
   "cell_type": "code",
   "execution_count": 107,
   "id": "70f5cc11-767d-456c-be34-36c0e786e6b8",
   "metadata": {},
   "outputs": [
    {
     "data": {
      "text/plain": [
       "tensor([[2, 3, 4],\n",
       "        [6, 7, 8]])"
      ]
     },
     "execution_count": 107,
     "metadata": {},
     "output_type": "execute_result"
    }
   ],
   "source": [
    "#b \n",
    "A = torch.tensor([[1, 2, 3], [4, 5, 6]])  # Shape: (2, 3)\n",
    "B = torch.tensor([[1], [2]])  # Shape: (2, 1)\n",
    "C = A + B # B가 (2, 3)으로 확장되어 연산\n",
    "C"
   ]
  },
  {
   "cell_type": "code",
   "execution_count": 126,
   "id": "326abd8c-a52c-4082-87a8-58e295be0034",
   "metadata": {},
   "outputs": [
    {
     "data": {
      "text/plain": [
       "tensor([[ 5,  7,  9],\n",
       "        [ 8, 10, 12]])"
      ]
     },
     "execution_count": 126,
     "metadata": {},
     "output_type": "execute_result"
    }
   ],
   "source": [
    "#c\n",
    "A = torch.tensor([1, 2, 3])  # Shape: (3)\n",
    "B = torch.tensor([[4, 5, 6], [7, 8, 9]])  # Shape: (2, 3)\n",
    "C = A + B  # A가 (2, 3)으로 확장되어 연산\n",
    "C"
   ]
  },
  {
   "cell_type": "code",
   "execution_count": 128,
   "id": "a7f62bd6-9d41-4eec-aa61-2d0914bea051",
   "metadata": {},
   "outputs": [
    {
     "data": {
      "text/plain": [
       "(torch.Size([2, 2, 2]), torch.Size([2, 2]))"
      ]
     },
     "execution_count": 128,
     "metadata": {},
     "output_type": "execute_result"
    }
   ],
   "source": [
    "# + align_as 사용해보기\n",
    "tensor1 = torch.tensor([[[1, 2], [3, 4]], [[5, 6], [7, 8]]], names=('batch', 'channel', 'height'))\n",
    "tensor2 = torch.tensor([[1, 1], [1, 1]], names=('channel', 'height'))\n",
    "tensor1.shape, tensor2.shape"
   ]
  },
  {
   "cell_type": "code",
   "execution_count": 130,
   "id": "1f42e23c-458a-4233-88ff-69993efec674",
   "metadata": {},
   "outputs": [
    {
     "data": {
      "text/plain": [
       "(torch.Size([1, 2, 2]), ('batch', 'channel', 'height'))"
      ]
     },
     "execution_count": 130,
     "metadata": {},
     "output_type": "execute_result"
    }
   ],
   "source": [
    "tensor2_aligned = tensor2.align_as(tensor1)\n",
    "\n",
    "tensor2_aligned.shape, tensor2_aligned.names"
   ]
  },
  {
   "cell_type": "code",
   "execution_count": 132,
   "id": "86183e3c-3eac-4003-8d75-0cbdedb7281f",
   "metadata": {},
   "outputs": [
    {
     "data": {
      "text/plain": [
       "tensor([[[2, 3],\n",
       "         [4, 5]],\n",
       "\n",
       "        [[6, 7],\n",
       "         [8, 9]]], names=('batch', 'channel', 'height'))"
      ]
     },
     "execution_count": 132,
     "metadata": {},
     "output_type": "execute_result"
    }
   ],
   "source": [
    "res = tensor1 + tensor2_aligned\n",
    "res"
   ]
  },
  {
   "cell_type": "markdown",
   "id": "c7a1139e-f1b8-4224-bda4-dc10ce420da7",
   "metadata": {},
   "source": [
    "#### 텐서의 데이터 타입\n",
    "1. torch.float32 또는 torch.float: 32비트 부동 소수점\n",
    "2. torch.float64 또는 torch.double: 64비트 부동 소수점\n",
    "3. torch.float16 또는 torch.half: 16비트 부동 소수점\n",
    "4. torch.int8: 8비트 정수\n",
    "5. torch.uint8: 8비트 부호 없는 정수\n",
    "6. torch.int16 또는 torch.short: 16비트 정수\n",
    "7. torch.int32 또는 torch.int: 32비트 정수\n",
    "8. torch.int64 또는 torch.long: 64비트 정수\n",
    "9. torch.bool: Boolean"
   ]
  },
  {
   "cell_type": "code",
   "execution_count": 139,
   "id": "6216a0f2-2b84-4dff-896e-347290297d55",
   "metadata": {},
   "outputs": [
    {
     "data": {
      "text/plain": [
       "torch.float32"
      ]
     },
     "execution_count": 139,
     "metadata": {},
     "output_type": "execute_result"
    }
   ],
   "source": [
    "a = torch.tensor([1.0, 2.0, 3.0], dtype=torch.float32)\n",
    "a.dtype"
   ]
  },
  {
   "cell_type": "code",
   "execution_count": 141,
   "id": "9faf6afe-46f3-4a1b-9b10-d6a68a95f625",
   "metadata": {},
   "outputs": [
    {
     "data": {
      "text/plain": [
       "torch.float32"
      ]
     },
     "execution_count": 141,
     "metadata": {},
     "output_type": "execute_result"
    }
   ],
   "source": [
    "b = torch.tensor([1.0, 2.0, 3.0]).to(torch.float)\n",
    "b.dtype"
   ]
  },
  {
   "cell_type": "code",
   "execution_count": 145,
   "id": "37b4cf25-ed4a-45a2-abf5-532d5a544ec6",
   "metadata": {},
   "outputs": [
    {
     "name": "stderr",
     "output_type": "stream",
     "text": [
      "/var/folders/t9/qppwntn17hlfp30wqvkm09280000gn/T/ipykernel_28305/3076968323.py:1: UserWarning: TypedStorage is deprecated. It will be removed in the future and UntypedStorage will be the only storage class. This should only matter to you if you are using storages directly.  To access UntypedStorage directly, use tensor.untyped_storage() instead of tensor.storage()\n",
      "  b.storage()\n"
     ]
    },
    {
     "data": {
      "text/plain": [
       " 1.0\n",
       " 2.0\n",
       " 3.0\n",
       "[torch.storage.TypedStorage(dtype=torch.float32, device=cpu) of size 3]"
      ]
     },
     "execution_count": 145,
     "metadata": {},
     "output_type": "execute_result"
    }
   ],
   "source": []
  },
  {
   "cell_type": "code",
   "execution_count": 153,
   "id": "853f9660-d446-43cf-968b-47050b3c8494",
   "metadata": {},
   "outputs": [
    {
     "data": {
      "text/plain": [
       " 1\n",
       " 2\n",
       " 3\n",
       " 4\n",
       " 5\n",
       " 6\n",
       " 7\n",
       " 8\n",
       "[torch.storage.TypedStorage(dtype=torch.int64, device=cpu) of size 8]"
      ]
     },
     "execution_count": 153,
     "metadata": {},
     "output_type": "execute_result"
    }
   ],
   "source": [
    "tensor1 = torch.tensor([[[1, 2], [3, 4]], [[5, 6], [7, 8]]], names=('batch', 'channel', 'height'))\n",
    "sto = tensor1.storage()\n",
    "sto"
   ]
  },
  {
   "cell_type": "code",
   "execution_count": 157,
   "id": "9e49e95e-3f51-4903-8978-719e2a54ac4a",
   "metadata": {},
   "outputs": [
    {
     "data": {
      "text/plain": [
       " 1\n",
       " 4\n",
       " 3\n",
       " 4\n",
       " 5\n",
       " 6\n",
       " 7\n",
       " 8\n",
       "[torch.storage.TypedStorage(dtype=torch.int64, device=cpu) of size 8]"
      ]
     },
     "execution_count": 157,
     "metadata": {},
     "output_type": "execute_result"
    }
   ],
   "source": [
    "sto[1]=4\n",
    "sto"
   ]
  },
  {
   "cell_type": "code",
   "execution_count": 159,
   "id": "4012f15a-c2e3-40fe-aa07-dbd5b76cf7df",
   "metadata": {},
   "outputs": [
    {
     "data": {
      "text/plain": [
       "tensor([[0., 0.],\n",
       "        [0., 0.],\n",
       "        [0., 0.]])"
      ]
     },
     "execution_count": 159,
     "metadata": {},
     "output_type": "execute_result"
    }
   ],
   "source": [
    "a = torch.ones(3,2)\n",
    "a.zero_() #텐서 객체에서만 작동 끝이 밑줄로 끝나는거 \n",
    "a"
   ]
  },
  {
   "cell_type": "markdown",
   "id": "9fdc5759-48e1-42f3-8bfa-4039fc9b225f",
   "metadata": {},
   "source": [
    "#### 텐서의 메타데이터"
   ]
  },
  {
   "cell_type": "code",
   "execution_count": 164,
   "id": "d60d2675-7c05-4cb4-9078-84ec50555271",
   "metadata": {},
   "outputs": [
    {
     "name": "stdout",
     "output_type": "stream",
     "text": [
      "tensor([5., 3.])\n",
      "2\n",
      "torch.Size([2])\n",
      "(1,)\n"
     ]
    }
   ],
   "source": [
    "import torch\n",
    "\n",
    "points = torch.tensor([[4.0, 1.0], [5.0, 3.0], [2.0, 1.0]])\n",
    "second_point = points[1]\n",
    "\n",
    "print(points[1])\n",
    "\n",
    "# Storage Offset\n",
    "print(second_point.storage_offset()) # 텐서의 데이터가 저장된 위치에서 텐서의 첫 번째 요소까지의 오프셋 = 2\n",
    "\n",
    "# Shape 확인\n",
    "print(second_point.size()) \n",
    "\n",
    "# Stride 확인\n",
    "print(second_point.stride()) # 다음 요소로 이동하기 위해 건너뛰어야 하는 메모리 위치 수"
   ]
  },
  {
   "cell_type": "code",
   "execution_count": 168,
   "id": "c6d7c664-41a3-4097-8cad-7a8981332254",
   "metadata": {},
   "outputs": [
    {
     "name": "stdout",
     "output_type": "stream",
     "text": [
      "torch.Size([3, 4, 5])\n",
      "torch.Size([5, 4, 3])\n",
      "(20, 5, 1)\n",
      "(1, 5, 20)\n"
     ]
    }
   ],
   "source": [
    "# 전치\n",
    "some_t = torch.ones(3, 4, 5)\n",
    "print(some_t.shape)\n",
    "transpose_t = some_t.transpose(0, 2)\n",
    "print(transpose_t.shape)\n",
    "print(some_t.stride())\n",
    "print(transpose_t.stride()) "
   ]
  },
  {
   "cell_type": "code",
   "execution_count": 170,
   "id": "62d64f5c-19a0-46aa-8c0e-9b22b8b6114f",
   "metadata": {},
   "outputs": [
    {
     "data": {
      "text/plain": [
       "((2, 1), (1, 2))"
      ]
     },
     "execution_count": 170,
     "metadata": {},
     "output_type": "execute_result"
    }
   ],
   "source": [
    "points = torch.tensor([[4.0, 1.0], [5.0, 3.0], [2.0, 1.0]])\n",
    "points_t = points.t()\n",
    "points.stride(), points_t.stride()"
   ]
  },
  {
   "cell_type": "code",
   "execution_count": 172,
   "id": "e893c21c-82c2-4e64-88a9-3ec18bd0392d",
   "metadata": {},
   "outputs": [
    {
     "data": {
      "text/plain": [
       "((1, 2), (3, 1))"
      ]
     },
     "execution_count": 172,
     "metadata": {},
     "output_type": "execute_result"
    }
   ],
   "source": [
    "points_t_cont = points_t.contiguous()\n",
    "points_t.stride(), points_t_cont.stride()"
   ]
  },
  {
   "cell_type": "code",
   "execution_count": 174,
   "id": "c511f115-4582-4904-9555-1443124908e4",
   "metadata": {},
   "outputs": [
    {
     "ename": "AssertionError",
     "evalue": "Torch not compiled with CUDA enabled",
     "output_type": "error",
     "traceback": [
      "\u001b[0;31m---------------------------------------------------------------------------\u001b[0m",
      "\u001b[0;31mAssertionError\u001b[0m                            Traceback (most recent call last)",
      "Cell \u001b[0;32mIn[174], line 1\u001b[0m\n\u001b[0;32m----> 1\u001b[0m points_gpu \u001b[38;5;241m=\u001b[39m torch\u001b[38;5;241m.\u001b[39mtensor([[\u001b[38;5;241m4.0\u001b[39m, \u001b[38;5;241m1.0\u001b[39m], [\u001b[38;5;241m5.0\u001b[39m, \u001b[38;5;241m3.0\u001b[39m], [\u001b[38;5;241m2.0\u001b[39m, \u001b[38;5;241m1.0\u001b[39m]], device\u001b[38;5;241m=\u001b[39m\u001b[38;5;124m\"\u001b[39m\u001b[38;5;124mcuda\u001b[39m\u001b[38;5;124m\"\u001b[39m)\n\u001b[1;32m      2\u001b[0m points_gpu\n",
      "File \u001b[0;32m/opt/anaconda3/lib/python3.11/site-packages/torch/cuda/__init__.py:284\u001b[0m, in \u001b[0;36m_lazy_init\u001b[0;34m()\u001b[0m\n\u001b[1;32m    279\u001b[0m     \u001b[38;5;28;01mraise\u001b[39;00m \u001b[38;5;167;01mRuntimeError\u001b[39;00m(\n\u001b[1;32m    280\u001b[0m         \u001b[38;5;124m\"\u001b[39m\u001b[38;5;124mCannot re-initialize CUDA in forked subprocess. To use CUDA with \u001b[39m\u001b[38;5;124m\"\u001b[39m\n\u001b[1;32m    281\u001b[0m         \u001b[38;5;124m\"\u001b[39m\u001b[38;5;124mmultiprocessing, you must use the \u001b[39m\u001b[38;5;124m'\u001b[39m\u001b[38;5;124mspawn\u001b[39m\u001b[38;5;124m'\u001b[39m\u001b[38;5;124m start method\u001b[39m\u001b[38;5;124m\"\u001b[39m\n\u001b[1;32m    282\u001b[0m     )\n\u001b[1;32m    283\u001b[0m \u001b[38;5;28;01mif\u001b[39;00m \u001b[38;5;129;01mnot\u001b[39;00m \u001b[38;5;28mhasattr\u001b[39m(torch\u001b[38;5;241m.\u001b[39m_C, \u001b[38;5;124m\"\u001b[39m\u001b[38;5;124m_cuda_getDeviceCount\u001b[39m\u001b[38;5;124m\"\u001b[39m):\n\u001b[0;32m--> 284\u001b[0m     \u001b[38;5;28;01mraise\u001b[39;00m \u001b[38;5;167;01mAssertionError\u001b[39;00m(\u001b[38;5;124m\"\u001b[39m\u001b[38;5;124mTorch not compiled with CUDA enabled\u001b[39m\u001b[38;5;124m\"\u001b[39m)\n\u001b[1;32m    285\u001b[0m \u001b[38;5;28;01mif\u001b[39;00m _cudart \u001b[38;5;129;01mis\u001b[39;00m \u001b[38;5;28;01mNone\u001b[39;00m:\n\u001b[1;32m    286\u001b[0m     \u001b[38;5;28;01mraise\u001b[39;00m \u001b[38;5;167;01mAssertionError\u001b[39;00m(\n\u001b[1;32m    287\u001b[0m         \u001b[38;5;124m\"\u001b[39m\u001b[38;5;124mlibcudart functions unavailable. It looks like you have a broken build?\u001b[39m\u001b[38;5;124m\"\u001b[39m\n\u001b[1;32m    288\u001b[0m     )\n",
      "\u001b[0;31mAssertionError\u001b[0m: Torch not compiled with CUDA enabled"
     ]
    }
   ],
   "source": [
    "points_gpu = torch.tensor([[4.0, 1.0], [5.0, 3.0], [2.0, 1.0]], device=\"cuda\")\n",
    "points_gpu  = points.to(device=\"cuda\")\n",
    "# 맥북 이슈로 cuda 사용 불가함"
   ]
  },
  {
   "cell_type": "code",
   "execution_count": 178,
   "id": "09bc75eb-bbfd-4181-b212-f46c21ad587c",
   "metadata": {},
   "outputs": [
    {
     "data": {
      "text/plain": [
       "array([[1., 1., 1.],\n",
       "       [1., 1., 1.]], dtype=float32)"
      ]
     },
     "execution_count": 178,
     "metadata": {},
     "output_type": "execute_result"
    }
   ],
   "source": [
    "points = torch.ones(2,3)\n",
    "np = points.numpy()\n",
    "np"
   ]
  },
  {
   "cell_type": "code",
   "execution_count": 180,
   "id": "f93c6292-2dc0-495d-a0f3-a3c01148a397",
   "metadata": {},
   "outputs": [
    {
     "name": "stdout",
     "output_type": "stream",
     "text": [
      "Requirement already satisfied: h5py in /opt/anaconda3/lib/python3.11/site-packages (3.10.0)\n",
      "Requirement already satisfied: numpy>=1.17.3 in /opt/anaconda3/lib/python3.11/site-packages (from h5py) (1.26.4)\n"
     ]
    }
   ],
   "source": [
    "!pip install h5py"
   ]
  },
  {
   "cell_type": "code",
   "execution_count": null,
   "id": "42bd8f41-d45a-4931-b3d5-68f8f4630367",
   "metadata": {},
   "outputs": [],
   "source": []
  }
 ],
 "metadata": {
  "kernelspec": {
   "display_name": "Python 3 (ipykernel)",
   "language": "python",
   "name": "python3"
  },
  "language_info": {
   "codemirror_mode": {
    "name": "ipython",
    "version": 3
   },
   "file_extension": ".py",
   "mimetype": "text/x-python",
   "name": "python",
   "nbconvert_exporter": "python",
   "pygments_lexer": "ipython3",
   "version": "3.11.7"
  }
 },
 "nbformat": 4,
 "nbformat_minor": 5
}
